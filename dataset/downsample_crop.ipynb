{
 "cells": [
  {
   "cell_type": "code",
   "execution_count": 7,
   "metadata": {},
   "outputs": [
    {
     "name": "stdout",
     "output_type": "stream",
     "text": [
      "['cat_real_0000.png', 'real_face_0000.jpeg']\n"
     ]
    },
    {
     "name": "stderr",
     "output_type": "stream",
     "text": [
      "/tmp/ipykernel_2084972/3517872807.py:17: DeprecationWarning: ANTIALIAS is deprecated and will be removed in Pillow 10 (2023-07-01). Use LANCZOS or Resampling.LANCZOS instead.\n",
      "  resized_image = image.resize((256, 256), Image.ANTIALIAS)\n"
     ]
    }
   ],
   "source": [
    "from PIL import Image\n",
    "import os\n",
    "\n",
    "# Specify the directory containing the JPEG files\n",
    "directory = \"/home/junwon.ko/gen_det/dataset/real\"\n",
    "# directory = \"/home/junwon.ko/gen_det/dataset/generated\"\n",
    "# directory = \"/home/junwon.ko/gen_det/dataset/real\"\n",
    "filelist = os.listdir(directory)\n",
    "print(os.listdir(directory))\n",
    "\n",
    "# Iterate over each file in the directory\n",
    "for filename in filelist:\n",
    "    if filename.endswith(\".jpg\") or filename.endswith(\".jpeg\"):\n",
    "        # Open the image file\n",
    "        image = Image.open(os.path.join(directory, filename))\n",
    "\n",
    "        # Resize the image to 256x256 using the ANTIALIAS resampling filter\n",
    "        resized_image = image.resize((256, 256), Image.ANTIALIAS)\n",
    "\n",
    "        # Save the resized image with a new filename in PNG format\n",
    "        new_filename = f\"{filename.split('.')[0]}.png\"\n",
    "        resized_image.save(os.path.join(directory, new_filename), \"PNG\")\n",
    "\n",
    "        # Close the image file\n",
    "        image.close()"
   ]
  },
  {
   "cell_type": "code",
   "execution_count": 9,
   "metadata": {},
   "outputs": [],
   "source": [
    "from PIL import Image\n",
    "\n",
    "# Open the image file\n",
    "filename = '/home/junwon.ko/gen_det/dataset/gen/gen_cat_0000.png'\n",
    "image = Image.open(filename)\n",
    "\n",
    "resol = 224\n",
    "\n",
    "# Calculate the dimensions for center cropping\n",
    "width, height = image.size\n",
    "left = (width - resol) // 2\n",
    "top = (height - resol) // 2\n",
    "right = left + resol\n",
    "bottom = top + resol\n",
    "\n",
    "# Crop the image\n",
    "cropped_image = image.crop((left, top, right, bottom))\n",
    "\n",
    "# Display the cropped image\n",
    "cropped_image.save(f\"{filename}_{resol}\", 'PNG')\n",
    "\n",
    "# Close the image file\n",
    "image.close()"
   ]
  },
  {
   "cell_type": "code",
   "execution_count": null,
   "metadata": {},
   "outputs": [],
   "source": []
  }
 ],
 "metadata": {
  "kernelspec": {
   "display_name": "base",
   "language": "python",
   "name": "python3"
  },
  "language_info": {
   "codemirror_mode": {
    "name": "ipython",
    "version": 3
   },
   "file_extension": ".py",
   "mimetype": "text/x-python",
   "name": "python",
   "nbconvert_exporter": "python",
   "pygments_lexer": "ipython3",
   "version": "3.10.13"
  }
 },
 "nbformat": 4,
 "nbformat_minor": 2
}
